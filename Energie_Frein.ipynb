{
 "cells": [
  {
   "cell_type": "code",
   "execution_count": null,
   "metadata": {},
   "outputs": [],
   "source": [
    "print(\"\"\"Ecriture d'un code pour calculer l'énergie dissipée\n",
    "par un freinage avec une force F, sur une distance D,\n",
    "pendant un temps défini par 2 timestamps\"\"\")"
   ]
  },
  {
   "cell_type": "code",
   "execution_count": 64,
   "metadata": {},
   "outputs": [],
   "source": [
    "def nrj_dissip (force, massav, dist, timestp1, timestp2, vit1, vit2):\n",
    "\n",
    "#Définition des variables\n",
    "    force                   # Force de freinage en N\n",
    "    massav                  # Masse avion en kg\n",
    "    dist                    # Distance de freinage connue ou calculée, en m\n",
    "    timestp1                # Timestamp 1 de la donnée 1 en secondes\n",
    "    timestp2                # Timestamp 2 de la donnée 2 en secondes\n",
    "    vit1                    # Vitesse au temps timestp1 en knots\n",
    "    vit2                    # Vitesse au temps timestp2 en knots\n",
    "    vitknot = 0.0           # Vitesse convertie de knots en m/s\n",
    "\n",
    "#Valeurs d'entrée pour le calcul : Force de freinage, Distance de freinage, timestamps\n",
    "\n",
    "#Calcul du travail de la force de freinage\n",
    "    print(\"La force de freinage est de :\", force,\"N\")\n",
    "    print(\"La masse de l'avion est de :\", massav,\"kg\")\n",
    "    print(\"La distance de freinage est de :\", dist,\"m\")\n",
    "    print(\"Le timing 1 est de :\", timestp1,\"sec\")\n",
    "    print(\"Le timing 2 est de :\", timestp2,\"sec\")\n",
    "    vitknot = ((vit1 * 1.852) / 3.6)\n",
    "    print(\"La vitesse de l'avion au timestamp1 est de :\", vit1,\"knots\",\" soit\",vitknot,\"m/s\")\n",
    "    print(\"La vitesse de l'avion au timestamp2 est de :\", vit2,\"knots\")\n",
    "\n",
    "    nrj_dissip = force * dist + vitknot\n",
    "    return nrj_dissip\n"
   ]
  },
  {
   "cell_type": "code",
   "execution_count": null,
   "metadata": {},
   "outputs": [],
   "source": []
  },
  {
   "cell_type": "code",
   "execution_count": 65,
   "metadata": {},
   "outputs": [
    {
     "name": "stdout",
     "output_type": "stream",
     "text": [
      "La force de freinage est de : 145000 N\n",
      "La masse de l'avion est de : 50000 kg\n",
      "La distance de freinage est de : 650 m\n",
      "Le timing 1 est de : 0 sec\n",
      "Le timing 2 est de : 16 sec\n",
      "La vitesse de l'avion au timestamp1 est de : 120 knots  soit 61.733333333333334 m/s\n",
      "La vitesse de l'avion au timestamp2 est de : 0 knots\n"
     ]
    },
    {
     "data": {
      "text/plain": [
       "94250061.73333333"
      ]
     },
     "execution_count": 65,
     "metadata": {},
     "output_type": "execute_result"
    }
   ],
   "source": [
    "nrj_dissip(145000,50000,650,0,16,120,0)"
   ]
  },
  {
   "cell_type": "code",
   "execution_count": null,
   "metadata": {},
   "outputs": [],
   "source": [
    "def nrj_dissip_tot(force_mes[],timestp[]):\n",
    "    for i in range(len(timestp())):\n",
    "        nrj_dissip_tot = \n"
   ]
  }
 ],
 "metadata": {
  "kernelspec": {
   "display_name": "Python 3",
   "language": "python",
   "name": "python3"
  },
  "language_info": {
   "codemirror_mode": {
    "name": "ipython",
    "version": 3
   },
   "file_extension": ".py",
   "mimetype": "text/x-python",
   "name": "python",
   "nbconvert_exporter": "python",
   "pygments_lexer": "ipython3",
   "version": "3.0.0"
  }
 },
 "nbformat": 4,
 "nbformat_minor": 2
}
